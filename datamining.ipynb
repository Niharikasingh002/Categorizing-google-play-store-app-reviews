{
  "nbformat": 4,
  "nbformat_minor": 0,
  "metadata": {
    "colab": {
      "provenance": []
    },
    "kernelspec": {
      "name": "python3",
      "display_name": "Python 3"
    },
    "language_info": {
      "name": "python"
    }
  },
  "cells": [
    {
      "cell_type": "code",
      "source": [
        "import pandas as pd\n",
        "import numpy as np\n",
        "from sklearn.model_selection import train_test_split\n",
        "import joblib\n",
        "from sklearn.feature_extraction.text import CountVectorizer"
      ],
      "metadata": {
        "id": "h2CkiKPgXXmG"
      },
      "execution_count": null,
      "outputs": []
    },
    {
      "cell_type": "code",
      "source": [
        "from google.colab import drive\n",
        "drive.mount('/content/drive')\n",
        "path = \"/content/drive/MyDrive/google_play_store_apps_reviews_training.csv\"\n",
        "data = pd.read_csv(path)"
      ],
      "metadata": {
        "colab": {
          "base_uri": "https://localhost:8080/"
        },
        "id": "bSRluD_ZYAr_",
        "outputId": "98426b36-3b88-455e-fca5-6a3d7ddf7a58"
      },
      "execution_count": null,
      "outputs": [
        {
          "output_type": "stream",
          "name": "stdout",
          "text": [
            "Drive already mounted at /content/drive; to attempt to forcibly remount, call drive.mount(\"/content/drive\", force_remount=True).\n"
          ]
        }
      ]
    },
    {
      "cell_type": "code",
      "source": [
        "def preprocess_data(data):\n",
        "    \n",
        "    data = data.drop('package_name', axis=1)\n",
        "    \n",
        "    \n",
        "    data['review'] = data['review'].str.strip().str.lower()\n",
        "    \n",
        "    return data"
      ],
      "metadata": {
        "id": "a2BtW_u1XarP"
      },
      "execution_count": null,
      "outputs": []
    },
    {
      "cell_type": "code",
      "source": [
        "data = preprocess_data(data)\n",
        "x = data['review']\n",
        "y = data['polarity']\n",
        "x, x_test, y, y_test = train_test_split(x, y, stratify=y, test_size=0.25, random_state=42)"
      ],
      "metadata": {
        "id": "78fwHYHbXeQ6"
      },
      "execution_count": null,
      "outputs": []
    },
    {
      "cell_type": "code",
      "source": [
        "vec = CountVectorizer(stop_words='english')\n",
        "x = vec.fit_transform(x).toarray()\n",
        "x_test = vec.transform(x_test).toarray()\n"
      ],
      "metadata": {
        "id": "tliRkzUGXhj2"
      },
      "execution_count": null,
      "outputs": []
    },
    {
      "cell_type": "code",
      "source": [
        "x"
      ],
      "metadata": {
        "colab": {
          "base_uri": "https://localhost:8080/"
        },
        "id": "vnetg7zqMVbc",
        "outputId": "1a73331a-e869-442c-caa2-fa041de7bd54"
      },
      "execution_count": null,
      "outputs": [
        {
          "output_type": "execute_result",
          "data": {
            "text/plain": [
              "array([[0, 0, 0, ..., 0, 0, 0],\n",
              "       [0, 0, 0, ..., 0, 0, 0],\n",
              "       [0, 0, 0, ..., 0, 0, 0],\n",
              "       ...,\n",
              "       [0, 0, 0, ..., 0, 0, 0],\n",
              "       [0, 0, 0, ..., 0, 0, 0],\n",
              "       [0, 0, 0, ..., 0, 0, 0]])"
            ]
          },
          "metadata": {},
          "execution_count": 21
        }
      ]
    },
    {
      "cell_type": "code",
      "source": [
        "class MultinomialNB:\n",
        "    def __init__(self, alpha=1.0):\n",
        "        self.alpha = alpha\n",
        "        \n",
        "    def fit(self, X, y):\n",
        "        n_samples, n_features = X.shape\n",
        "        self.classes_ = np.unique(y)\n",
        "        n_classes = len(self.classes_)\n",
        "        \n",
        "        # Compute the prior probabilities of each class\n",
        "        self.class_prior_ = np.zeros(n_classes)\n",
        "        for i, c in enumerate(self.classes_):\n",
        "            self.class_prior_[i] = np.sum(y == c) / n_samples\n",
        "        \n",
        "        # Compute the number of times each feature appears in each class\n",
        "        self.feature_counts = np.zeros((n_classes, n_features))\n",
        "        for i, c in enumerate(self.classes_):\n",
        "            self.feature_counts[i, :] = np.sum(X[y == c, :], axis=0)\n",
        "            \n",
        "        # Compute the total number of times each feature appears\n",
        "        self.feature_totals = np.sum(self.feature_counts, axis=1)\n",
        "        \n",
        "        # Compute the logarithm of the class conditional probabilities\n",
        "        self.feature_log_prob_ = (np.log(self.feature_counts + self.alpha)\n",
        "                                  - np.log(self.feature_totals.reshape(-1, 1)\n",
        "                                           + self.alpha * n_features))\n",
        "    \n",
        "    def predict_log_proba(self, X):\n",
        "        n_samples, n_features = X.shape\n",
        "        log_prob = np.zeros((n_samples, len(self.classes_)))\n",
        "        for i, c in enumerate(self.classes_):\n",
        "            \n",
        "            log_prob[:, i] = np.log(self.class_prior_[i])\n",
        "            \n",
        "            \n",
        "            log_prob[:, i] += np.sum(self.feature_log_prob_[i, :].reshape(1, -1) * X, axis=1)\n",
        "        \n",
        "        return log_prob\n",
        "    def predict(self, X):\n",
        "        \n",
        "        return np.argmax(self.predict_log_proba(X), axis=1)\n",
        "    \n",
        "model = MultinomialNB()\n",
        "model.fit(x, y)"
      ],
      "metadata": {
        "id": "PoPD_37yXj8s"
      },
      "execution_count": null,
      "outputs": []
    },
    {
      "cell_type": "code",
      "source": [
        "score = np.mean(model.predict(x_test) == y_test)\n",
        "score"
      ],
      "metadata": {
        "colab": {
          "base_uri": "https://localhost:8080/"
        },
        "id": "kQBPKR2MXtCd",
        "outputId": "5a9d22db-4b58-48d4-e95e-a4dd39fd2737"
      },
      "execution_count": null,
      "outputs": [
        {
          "output_type": "execute_result",
          "data": {
            "text/plain": [
              "0.8565022421524664"
            ]
          },
          "metadata": {},
          "execution_count": 13
        }
      ]
    },
    {
      "cell_type": "code",
      "source": [
        "predict = model.predict(vec.transform(['very smooth interface']).toarray())\n",
        "\n",
        "if predict[0] == 1:\n",
        "    print(\"positive review\")\n",
        "else:\n",
        "    print(\"negative review\")"
      ],
      "metadata": {
        "id": "_g9m0WhmXwwR",
        "colab": {
          "base_uri": "https://localhost:8080/"
        },
        "outputId": "9fe60bd2-5e3b-4807-885e-546425f7b130"
      },
      "execution_count": null,
      "outputs": [
        {
          "output_type": "stream",
          "name": "stdout",
          "text": [
            "positive review\n"
          ]
        }
      ]
    }
  ]
}